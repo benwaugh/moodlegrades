{
 "cells": [
  {
   "cell_type": "code",
   "execution_count": 1,
   "id": "45e268a4",
   "metadata": {},
   "outputs": [],
   "source": [
    "import mechanize"
   ]
  },
  {
   "cell_type": "code",
   "execution_count": 2,
   "id": "d7ddbba0",
   "metadata": {},
   "outputs": [],
   "source": [
    "#url_moodle = \"https://moodle.ucl.ac.uk/\"\n",
    "url_course = \"https://moodle.ucl.ac.uk/course/view.php?id=10648\"\n",
    "fake_user_agent = \"Mozilla/5.0 (X11; Linux x86_64; rv:103.0) Gecko/20100101 Firefox/103.0\""
   ]
  },
  {
   "cell_type": "code",
   "execution_count": 3,
   "id": "1053e7e5",
   "metadata": {},
   "outputs": [],
   "source": [
    "br = mechanize.Browser()"
   ]
  },
  {
   "cell_type": "code",
   "execution_count": 4,
   "id": "0d830507",
   "metadata": {},
   "outputs": [
    {
     "data": {
      "text/plain": [
       "<response_seek_wrapper at 0x7f077da160d0 whose wrapped object = <closeable_response at 0x7f077c4c59a0 whose fp = <_io.BufferedReader name=57>>>"
      ]
     },
     "execution_count": 4,
     "metadata": {},
     "output_type": "execute_result"
    }
   ],
   "source": [
    "br.set_handle_robots(False)\n",
    "br.addheaders = [(\"User-agent\",fake_user_agent)]\n",
    "br.open(url_course)"
   ]
  },
  {
   "cell_type": "code",
   "execution_count": null,
   "id": "ddef2e91",
   "metadata": {},
   "outputs": [],
   "source": []
  }
 ],
 "metadata": {
  "kernelspec": {
   "display_name": "Python 3 (ipykernel)",
   "language": "python",
   "name": "python3"
  },
  "language_info": {
   "codemirror_mode": {
    "name": "ipython",
    "version": 3
   },
   "file_extension": ".py",
   "mimetype": "text/x-python",
   "name": "python",
   "nbconvert_exporter": "python",
   "pygments_lexer": "ipython3",
   "version": "3.8.13"
  },
  "toc": {
   "base_numbering": 1,
   "nav_menu": {},
   "number_sections": false,
   "sideBar": true,
   "skip_h1_title": false,
   "title_cell": "Table of Contents",
   "title_sidebar": "Contents",
   "toc_cell": false,
   "toc_position": {},
   "toc_section_display": true,
   "toc_window_display": false
  }
 },
 "nbformat": 4,
 "nbformat_minor": 5
}
