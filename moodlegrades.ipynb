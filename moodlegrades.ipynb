{
 "cells": [
  {
   "cell_type": "code",
   "execution_count": null,
   "id": "45e268a4",
   "metadata": {},
   "outputs": [],
   "source": [
    "import mechanize\n",
    "import getpass\n",
    "\n",
    "url_moodle = \"https://moodle.ucl.ac.uk/\"\n",
    "url_course = \"https://moodle.ucl.ac.uk/course/view.php?id=10648\"\n",
    "url_login = \"https://moodle.ucl.ac.uk/login/index.php\"\n",
    "fake_user_agent = \"Mozilla/5.0 (X11; Linux x86_64; rv:103.0) Gecko/20100101 Firefox/103.0\"\n",
    "\n",
    "br = mechanize.Browser()\n",
    "br.set_handle_robots(False)\n",
    "br.addheaders = [(\"User-agent\",fake_user_agent)]"
   ]
  },
  {
   "cell_type": "code",
   "execution_count": null,
   "id": "aa8f9d1a",
   "metadata": {},
   "outputs": [],
   "source": [
    "def is_login_form(form):\n",
    "    \"\"\"Check if given form has expected username and password\n",
    "    controls.\"\"\"\n",
    "    try:\n",
    "        form.find_control(name='username',type='text')\n",
    "        form.find_control(name='password',type='password')\n",
    "        return True\n",
    "    except mechanize.ControlNotFoundError:\n",
    "        return False"
   ]
  },
  {
   "cell_type": "code",
   "execution_count": null,
   "id": "3b83ca70",
   "metadata": {},
   "outputs": [],
   "source": [
    "response = br.open(url_course)\n",
    "br.select_form(predicate=is_login_form)\n",
    "login_form = br.form"
   ]
  },
  {
   "cell_type": "code",
   "execution_count": null,
   "id": "f84ebdf3",
   "metadata": {},
   "outputs": [],
   "source": [
    "username = input(\"Enter username for Moodle login: \")\n",
    "password = getpass.getpass(\"Enter password for Moodle login: \")"
   ]
  },
  {
   "cell_type": "code",
   "execution_count": null,
   "id": "c46a7e83",
   "metadata": {},
   "outputs": [],
   "source": [
    "login_form['username'] = username\n",
    "login_form['password'] = password"
   ]
  },
  {
   "cell_type": "code",
   "execution_count": null,
   "id": "91b827ef",
   "metadata": {},
   "outputs": [],
   "source": [
    "br.submit()"
   ]
  },
  {
   "cell_type": "code",
   "execution_count": null,
   "id": "794da046",
   "metadata": {},
   "outputs": [],
   "source": []
  }
 ],
 "metadata": {
  "kernelspec": {
   "display_name": "Python 3 (ipykernel)",
   "language": "python",
   "name": "python3"
  },
  "language_info": {
   "codemirror_mode": {
    "name": "ipython",
    "version": 3
   },
   "file_extension": ".py",
   "mimetype": "text/x-python",
   "name": "python",
   "nbconvert_exporter": "python",
   "pygments_lexer": "ipython3",
   "version": "3.8.13"
  },
  "toc": {
   "base_numbering": 1,
   "nav_menu": {},
   "number_sections": false,
   "sideBar": true,
   "skip_h1_title": false,
   "title_cell": "Table of Contents",
   "title_sidebar": "Contents",
   "toc_cell": false,
   "toc_position": {},
   "toc_section_display": true,
   "toc_window_display": false
  }
 },
 "nbformat": 4,
 "nbformat_minor": 5
}
